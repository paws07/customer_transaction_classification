{
 "cells": [
  {
   "cell_type": "code",
   "execution_count": 1,
   "id": "9b781f1a",
   "metadata": {
    "ExecuteTime": {
     "end_time": "2023-03-03T20:45:50.338957Z",
     "start_time": "2023-03-03T20:45:48.798156Z"
    }
   },
   "outputs": [],
   "source": [
    "import pandas as pd\n",
    "import seaborn as sns\n",
    "import matplotlib.pyplot as plt\n",
    "import numpy as np\n",
    "import itertools\n",
    "\n",
    "from sklearn.metrics import confusion_matrix, accuracy_score, ConfusionMatrixDisplay\n",
    "from sklearn.model_selection import train_test_split, cross_val_score, GridSearchCV\n",
    "from sklearn.cluster import KMeans\n",
    "from sklearn.metrics import silhouette_samples, silhouette_score\n",
    "from sklearn.neighbors import KNeighborsClassifier\n",
    "from sklearn.decomposition import PCA\n",
    "from sklearn.preprocessing import StandardScaler\n",
    "from sklearn.pipeline import make_pipeline\n",
    "import scikitplot as skplt"
   ]
  },
  {
   "cell_type": "code",
   "execution_count": 2,
   "id": "cc6c934a",
   "metadata": {
    "ExecuteTime": {
     "end_time": "2023-03-03T20:45:50.384833Z",
     "start_time": "2023-03-03T20:45:50.339821Z"
    }
   },
   "outputs": [
    {
     "name": "stdout",
     "output_type": "stream",
     "text": [
      "Python implementation: CPython\n",
      "Python version       : 3.8.8\n",
      "IPython version      : 7.22.0\n",
      "\n",
      "numpy  : 1.23.5\n",
      "sklearn: 1.2.0\n",
      "pandas : 1.4.3\n",
      "seaborn: 0.12.2\n",
      "\n",
      "Compiler    : MSC v.1916 64 bit (AMD64)\n",
      "OS          : Windows\n",
      "Release     : 10\n",
      "Machine     : AMD64\n",
      "Processor   : Intel64 Family 6 Model 140 Stepping 1, GenuineIntel\n",
      "CPU cores   : 8\n",
      "Architecture: 64bit\n",
      "\n"
     ]
    }
   ],
   "source": [
    "%load_ext watermark\n",
    "%watermark -v -n -m -p numpy,sklearn,pandas,seaborn"
   ]
  },
  {
   "cell_type": "markdown",
   "id": "14ce3b22",
   "metadata": {},
   "source": [
    "## Data "
   ]
  },
  {
   "cell_type": "markdown",
   "id": "4d79ae23",
   "metadata": {},
   "source": [
    "The data was obtained from UCI's Machine Learning Repository. Its a subset of e-commerce shopping history for customers of a company, and contains 12,330 sessions. 84.5% (10,422) were negative class samples that did not end with shopping, and the rest (1908) were positive class samples ending with shopping.\n",
    "\n",
    "\n",
    "The data and information on the original contributors can be found here:\n",
    "\n",
    "https://archive.ics.uci.edu/ml/datasets/Online+Shoppers+Purchasing+Intention+Dataset  \n",
    "Sakar, C.O., Polat, S.O., Katircioglu, M. et al. Neural Comput & Applic (2018)"
   ]
  },
  {
   "cell_type": "code",
   "execution_count": 3,
   "id": "6c48a699",
   "metadata": {
    "ExecuteTime": {
     "end_time": "2023-03-03T20:45:51.815344Z",
     "start_time": "2023-03-03T20:45:51.787775Z"
    }
   },
   "outputs": [],
   "source": [
    "# Read the dataset\n",
    "ecommerce_data = pd.read_csv(r'data\\online_shoppers_intention.csv')"
   ]
  },
  {
   "cell_type": "code",
   "execution_count": 4,
   "id": "d1028e8e",
   "metadata": {
    "ExecuteTime": {
     "end_time": "2023-03-03T20:45:52.284048Z",
     "start_time": "2023-03-03T20:45:52.263858Z"
    }
   },
   "outputs": [
    {
     "data": {
      "text/plain": [
       "(12330, 18)"
      ]
     },
     "execution_count": 4,
     "metadata": {},
     "output_type": "execute_result"
    }
   ],
   "source": [
    "ecommerce_data.shape"
   ]
  },
  {
   "cell_type": "markdown",
   "id": "36f0f958",
   "metadata": {
    "heading_collapsed": true
   },
   "source": [
    "### Problem \n",
    "\n",
    "We would like to be able to classify future sessions into clusters of transactions vs non-transactions. Once the model is trained we could apply it to live sessions to predict whether a customer is about the transact or abandon their session and have additional marketing support for that segment."
   ]
  },
  {
   "cell_type": "markdown",
   "id": "c004fb52",
   "metadata": {},
   "source": [
    "# Inspect, Visualize and Clean the Data "
   ]
  },
  {
   "cell_type": "markdown",
   "id": "13933451",
   "metadata": {},
   "source": [
    "## Exploratory Data Analysis (EDA) "
   ]
  },
  {
   "cell_type": "code",
   "execution_count": 5,
   "id": "51025909",
   "metadata": {
    "ExecuteTime": {
     "end_time": "2023-03-03T20:45:53.995926Z",
     "start_time": "2023-03-03T20:45:53.963650Z"
    }
   },
   "outputs": [
    {
     "data": {
      "text/html": [
       "<div>\n",
       "<style scoped>\n",
       "    .dataframe tbody tr th:only-of-type {\n",
       "        vertical-align: middle;\n",
       "    }\n",
       "\n",
       "    .dataframe tbody tr th {\n",
       "        vertical-align: top;\n",
       "    }\n",
       "\n",
       "    .dataframe thead th {\n",
       "        text-align: right;\n",
       "    }\n",
       "</style>\n",
       "<table border=\"1\" class=\"dataframe\">\n",
       "  <thead>\n",
       "    <tr style=\"text-align: right;\">\n",
       "      <th></th>\n",
       "      <th>Administrative</th>\n",
       "      <th>Administrative_Duration</th>\n",
       "      <th>Informational</th>\n",
       "      <th>Informational_Duration</th>\n",
       "      <th>ProductRelated</th>\n",
       "      <th>ProductRelated_Duration</th>\n",
       "      <th>BounceRates</th>\n",
       "      <th>ExitRates</th>\n",
       "      <th>PageValues</th>\n",
       "      <th>SpecialDay</th>\n",
       "      <th>Month</th>\n",
       "      <th>OperatingSystems</th>\n",
       "      <th>Browser</th>\n",
       "      <th>Region</th>\n",
       "      <th>TrafficType</th>\n",
       "      <th>VisitorType</th>\n",
       "      <th>Weekend</th>\n",
       "      <th>Revenue</th>\n",
       "    </tr>\n",
       "  </thead>\n",
       "  <tbody>\n",
       "    <tr>\n",
       "      <th>10302</th>\n",
       "      <td>4</td>\n",
       "      <td>367.000000</td>\n",
       "      <td>5</td>\n",
       "      <td>2256.916667</td>\n",
       "      <td>74</td>\n",
       "      <td>8981.580128</td>\n",
       "      <td>0.002989</td>\n",
       "      <td>0.043302</td>\n",
       "      <td>0.000000</td>\n",
       "      <td>0.0</td>\n",
       "      <td>Dec</td>\n",
       "      <td>2</td>\n",
       "      <td>2</td>\n",
       "      <td>1</td>\n",
       "      <td>8</td>\n",
       "      <td>Returning_Visitor</td>\n",
       "      <td>False</td>\n",
       "      <td>False</td>\n",
       "    </tr>\n",
       "    <tr>\n",
       "      <th>6916</th>\n",
       "      <td>0</td>\n",
       "      <td>0.000000</td>\n",
       "      <td>0</td>\n",
       "      <td>0.000000</td>\n",
       "      <td>8</td>\n",
       "      <td>316.133333</td>\n",
       "      <td>0.000000</td>\n",
       "      <td>0.050000</td>\n",
       "      <td>0.000000</td>\n",
       "      <td>0.0</td>\n",
       "      <td>June</td>\n",
       "      <td>2</td>\n",
       "      <td>2</td>\n",
       "      <td>3</td>\n",
       "      <td>13</td>\n",
       "      <td>Returning_Visitor</td>\n",
       "      <td>False</td>\n",
       "      <td>False</td>\n",
       "    </tr>\n",
       "    <tr>\n",
       "      <th>1555</th>\n",
       "      <td>0</td>\n",
       "      <td>0.000000</td>\n",
       "      <td>0</td>\n",
       "      <td>0.000000</td>\n",
       "      <td>24</td>\n",
       "      <td>1762.250000</td>\n",
       "      <td>0.008333</td>\n",
       "      <td>0.016667</td>\n",
       "      <td>0.000000</td>\n",
       "      <td>0.0</td>\n",
       "      <td>Mar</td>\n",
       "      <td>2</td>\n",
       "      <td>2</td>\n",
       "      <td>2</td>\n",
       "      <td>1</td>\n",
       "      <td>Returning_Visitor</td>\n",
       "      <td>False</td>\n",
       "      <td>False</td>\n",
       "    </tr>\n",
       "    <tr>\n",
       "      <th>5065</th>\n",
       "      <td>0</td>\n",
       "      <td>0.000000</td>\n",
       "      <td>0</td>\n",
       "      <td>0.000000</td>\n",
       "      <td>2</td>\n",
       "      <td>247.000000</td>\n",
       "      <td>0.000000</td>\n",
       "      <td>0.100000</td>\n",
       "      <td>0.000000</td>\n",
       "      <td>0.0</td>\n",
       "      <td>May</td>\n",
       "      <td>1</td>\n",
       "      <td>1</td>\n",
       "      <td>1</td>\n",
       "      <td>1</td>\n",
       "      <td>Returning_Visitor</td>\n",
       "      <td>False</td>\n",
       "      <td>False</td>\n",
       "    </tr>\n",
       "    <tr>\n",
       "      <th>5012</th>\n",
       "      <td>0</td>\n",
       "      <td>0.000000</td>\n",
       "      <td>0</td>\n",
       "      <td>0.000000</td>\n",
       "      <td>23</td>\n",
       "      <td>684.500000</td>\n",
       "      <td>0.021739</td>\n",
       "      <td>0.044928</td>\n",
       "      <td>0.000000</td>\n",
       "      <td>0.8</td>\n",
       "      <td>May</td>\n",
       "      <td>2</td>\n",
       "      <td>2</td>\n",
       "      <td>2</td>\n",
       "      <td>6</td>\n",
       "      <td>Returning_Visitor</td>\n",
       "      <td>False</td>\n",
       "      <td>False</td>\n",
       "    </tr>\n",
       "    <tr>\n",
       "      <th>5635</th>\n",
       "      <td>4</td>\n",
       "      <td>96.600000</td>\n",
       "      <td>0</td>\n",
       "      <td>0.000000</td>\n",
       "      <td>15</td>\n",
       "      <td>276.733333</td>\n",
       "      <td>0.010526</td>\n",
       "      <td>0.021053</td>\n",
       "      <td>69.462395</td>\n",
       "      <td>0.0</td>\n",
       "      <td>Oct</td>\n",
       "      <td>2</td>\n",
       "      <td>2</td>\n",
       "      <td>1</td>\n",
       "      <td>4</td>\n",
       "      <td>Returning_Visitor</td>\n",
       "      <td>True</td>\n",
       "      <td>True</td>\n",
       "    </tr>\n",
       "    <tr>\n",
       "      <th>10580</th>\n",
       "      <td>0</td>\n",
       "      <td>0.000000</td>\n",
       "      <td>0</td>\n",
       "      <td>0.000000</td>\n",
       "      <td>3</td>\n",
       "      <td>0.000000</td>\n",
       "      <td>0.200000</td>\n",
       "      <td>0.200000</td>\n",
       "      <td>0.000000</td>\n",
       "      <td>0.0</td>\n",
       "      <td>Nov</td>\n",
       "      <td>3</td>\n",
       "      <td>2</td>\n",
       "      <td>1</td>\n",
       "      <td>13</td>\n",
       "      <td>Returning_Visitor</td>\n",
       "      <td>False</td>\n",
       "      <td>False</td>\n",
       "    </tr>\n",
       "    <tr>\n",
       "      <th>8015</th>\n",
       "      <td>1</td>\n",
       "      <td>6.500000</td>\n",
       "      <td>0</td>\n",
       "      <td>0.000000</td>\n",
       "      <td>10</td>\n",
       "      <td>511.250000</td>\n",
       "      <td>0.000000</td>\n",
       "      <td>0.007407</td>\n",
       "      <td>7.848539</td>\n",
       "      <td>0.0</td>\n",
       "      <td>Dec</td>\n",
       "      <td>2</td>\n",
       "      <td>5</td>\n",
       "      <td>3</td>\n",
       "      <td>8</td>\n",
       "      <td>New_Visitor</td>\n",
       "      <td>True</td>\n",
       "      <td>True</td>\n",
       "    </tr>\n",
       "    <tr>\n",
       "      <th>7</th>\n",
       "      <td>1</td>\n",
       "      <td>0.000000</td>\n",
       "      <td>0</td>\n",
       "      <td>0.000000</td>\n",
       "      <td>0</td>\n",
       "      <td>0.000000</td>\n",
       "      <td>0.200000</td>\n",
       "      <td>0.200000</td>\n",
       "      <td>0.000000</td>\n",
       "      <td>0.0</td>\n",
       "      <td>Feb</td>\n",
       "      <td>1</td>\n",
       "      <td>2</td>\n",
       "      <td>1</td>\n",
       "      <td>5</td>\n",
       "      <td>Returning_Visitor</td>\n",
       "      <td>True</td>\n",
       "      <td>False</td>\n",
       "    </tr>\n",
       "    <tr>\n",
       "      <th>11371</th>\n",
       "      <td>10</td>\n",
       "      <td>198.243056</td>\n",
       "      <td>3</td>\n",
       "      <td>276.250000</td>\n",
       "      <td>151</td>\n",
       "      <td>4344.919986</td>\n",
       "      <td>0.002532</td>\n",
       "      <td>0.011966</td>\n",
       "      <td>0.000000</td>\n",
       "      <td>0.0</td>\n",
       "      <td>Dec</td>\n",
       "      <td>4</td>\n",
       "      <td>2</td>\n",
       "      <td>4</td>\n",
       "      <td>2</td>\n",
       "      <td>Returning_Visitor</td>\n",
       "      <td>False</td>\n",
       "      <td>False</td>\n",
       "    </tr>\n",
       "  </tbody>\n",
       "</table>\n",
       "</div>"
      ],
      "text/plain": [
       "       Administrative  Administrative_Duration  Informational  \\\n",
       "10302               4               367.000000              5   \n",
       "6916                0                 0.000000              0   \n",
       "1555                0                 0.000000              0   \n",
       "5065                0                 0.000000              0   \n",
       "5012                0                 0.000000              0   \n",
       "5635                4                96.600000              0   \n",
       "10580               0                 0.000000              0   \n",
       "8015                1                 6.500000              0   \n",
       "7                   1                 0.000000              0   \n",
       "11371              10               198.243056              3   \n",
       "\n",
       "       Informational_Duration  ProductRelated  ProductRelated_Duration  \\\n",
       "10302             2256.916667              74              8981.580128   \n",
       "6916                 0.000000               8               316.133333   \n",
       "1555                 0.000000              24              1762.250000   \n",
       "5065                 0.000000               2               247.000000   \n",
       "5012                 0.000000              23               684.500000   \n",
       "5635                 0.000000              15               276.733333   \n",
       "10580                0.000000               3                 0.000000   \n",
       "8015                 0.000000              10               511.250000   \n",
       "7                    0.000000               0                 0.000000   \n",
       "11371              276.250000             151              4344.919986   \n",
       "\n",
       "       BounceRates  ExitRates  PageValues  SpecialDay Month  OperatingSystems  \\\n",
       "10302     0.002989   0.043302    0.000000         0.0   Dec                 2   \n",
       "6916      0.000000   0.050000    0.000000         0.0  June                 2   \n",
       "1555      0.008333   0.016667    0.000000         0.0   Mar                 2   \n",
       "5065      0.000000   0.100000    0.000000         0.0   May                 1   \n",
       "5012      0.021739   0.044928    0.000000         0.8   May                 2   \n",
       "5635      0.010526   0.021053   69.462395         0.0   Oct                 2   \n",
       "10580     0.200000   0.200000    0.000000         0.0   Nov                 3   \n",
       "8015      0.000000   0.007407    7.848539         0.0   Dec                 2   \n",
       "7         0.200000   0.200000    0.000000         0.0   Feb                 1   \n",
       "11371     0.002532   0.011966    0.000000         0.0   Dec                 4   \n",
       "\n",
       "       Browser  Region  TrafficType        VisitorType  Weekend  Revenue  \n",
       "10302        2       1            8  Returning_Visitor    False    False  \n",
       "6916         2       3           13  Returning_Visitor    False    False  \n",
       "1555         2       2            1  Returning_Visitor    False    False  \n",
       "5065         1       1            1  Returning_Visitor    False    False  \n",
       "5012         2       2            6  Returning_Visitor    False    False  \n",
       "5635         2       1            4  Returning_Visitor     True     True  \n",
       "10580        2       1           13  Returning_Visitor    False    False  \n",
       "8015         5       3            8        New_Visitor     True     True  \n",
       "7            2       1            5  Returning_Visitor     True    False  \n",
       "11371        2       4            2  Returning_Visitor    False    False  "
      ]
     },
     "execution_count": 5,
     "metadata": {},
     "output_type": "execute_result"
    }
   ],
   "source": [
    "# Looking at a sample dataset\n",
    "ecommerce_data.sample(10)"
   ]
  },
  {
   "cell_type": "markdown",
   "id": "1496b12c",
   "metadata": {},
   "source": [
    "According to the authors of the paper, the first six columns are aggregates for different types of pages visited by the user in the session and total time spent in the categories. The Bounce Rate and Exit Rate features are averages for all visitors rather during the time frame."
   ]
  },
  {
   "cell_type": "code",
   "execution_count": 6,
   "id": "ae0adaa8",
   "metadata": {
    "ExecuteTime": {
     "end_time": "2023-03-03T20:45:55.206638Z",
     "start_time": "2023-03-03T20:45:54.859794Z"
    }
   },
   "outputs": [
    {
     "data": {
      "image/png": "[encoded data removed]",
      "text/plain": [
       "<Figure size 1080x432 with 2 Axes>"
      ]
     },
     "metadata": {
      "needs_background": "light"
     },
     "output_type": "display_data"
    }
   ],
   "source": [
    "figs, axs = plt.subplots(ncols=2,\n",
    "                        figsize=(15,6))\n",
    "\n",
    "g1 = sns.barplot(data=ecommerce_data['Administrative'].value_counts().to_frame().reset_index(),\n",
    "            x='Administrative',\n",
    "            y='index',\n",
    "            orient='h',\n",
    "            ax=axs[0]).set(title='Administrative Page View', xlabel='Number of Sessions', ylabel='Number of Pages Viewed')\n",
    "\n",
    "g2 = sns.histplot(data=ecommerce_data[ecommerce_data['Administrative'] != 0],\n",
    "             x=ecommerce_data['Administrative_Duration']/60,\n",
    "             bins=20,\n",
    "           ax=axs[1]).set(title='Page Duration for True Visits', xlabel='Duration of View - Minutes', ylabel='Count')"
   ]
  },
  {
   "cell_type": "markdown",
   "id": "0a47cbd2",
   "metadata": {},
   "source": [
    "Most users visit do not visit the administrative page, of those that do they don't spend a lot of time there"
   ]
  },
  {
   "cell_type": "code",
   "execution_count": 7,
   "id": "08a65420",
   "metadata": {
    "ExecuteTime": {
     "end_time": "2023-03-03T20:45:56.340421Z",
     "start_time": "2023-03-03T20:45:56.043914Z"
    }
   },
   "outputs": [
    {
     "data": {
      "image/png": "[encoded data removed]",
      "text/plain": [
       "<Figure size 1080x432 with 2 Axes>"
      ]
     },
     "metadata": {
      "needs_background": "light"
     },
     "output_type": "display_data"
    }
   ],
   "source": [
    "figs, axs = plt.subplots(ncols=2,\n",
    "                        figsize=(15,6))\n",
    "\n",
    "g1 = sns.barplot(data=ecommerce_data['Informational'].value_counts().to_frame().reset_index(),\n",
    "            x='Informational',\n",
    "            y='index',\n",
    "            orient='h',\n",
    "            ax=axs[0]).set(title='Informational Page View', xlabel='Number of Sessions', ylabel='Number of Pages Viewed')\n",
    "\n",
    "g2 = sns.histplot(data=ecommerce_data[ecommerce_data['Informational'] != 0],\n",
    "             x=ecommerce_data['Informational_Duration']/60,\n",
    "             bins=20,\n",
    "           ax=axs[1]).set(title='Page Duration for True Visits', xlabel='Duration of View - Minutes', ylabel='Count')"
   ]
  },
  {
   "cell_type": "markdown",
   "id": "925ecd24",
   "metadata": {},
   "source": [
    "Similar story for the informational pages too"
   ]
  },
  {
   "cell_type": "code",
   "execution_count": 8,
   "id": "d843318c",
   "metadata": {
    "ExecuteTime": {
     "end_time": "2023-03-03T20:45:57.338400Z",
     "start_time": "2023-03-03T20:45:57.083404Z"
    }
   },
   "outputs": [
    {
     "data": {
      "image/png": "[encoded data removed]",
      "text/plain": [
       "<Figure size 1080x432 with 2 Axes>"
      ]
     },
     "metadata": {
      "needs_background": "light"
     },
     "output_type": "display_data"
    }
   ],
   "source": [
    "figs, axs = plt.subplots(ncols=2,\n",
    "                        figsize=(15,6))\n",
    "\n",
    "g1 = sns.histplot(data=ecommerce_data,\n",
    "             x='ProductRelated',\n",
    "             bins=30,\n",
    "             ax=axs[0]).set(title='Histogram of Page Views', xlabel='Views', ylabel='Count')\n",
    "\n",
    "g2 = sns.histplot(data=ecommerce_data[ecommerce_data['ProductRelated'] != 0],\n",
    "                x=ecommerce_data['ProductRelated_Duration']/60,\n",
    "                bins=20,\n",
    "                ax=axs[1]).set(title='Page Duration for True Visits', xlabel='Duration of View - Minutes', ylabel='Count')"
   ]
  },
  {
   "cell_type": "markdown",
   "id": "e78a697e",
   "metadata": {},
   "source": [
    "The product related pages have a lot more views as expected of an e-commerce company. We also see some potential outliers, where the session states that individuals viewed more than 700 pages during a session for over 1000 minutes. This could most likely be a crawling bot."
   ]
  },
  {
   "cell_type": "markdown",
   "id": "e0d3c73e",
   "metadata": {},
   "source": [
    "Before modeling we first attempt to re-categorize the columns do we can perform OHC"
   ]
  },
  {
   "cell_type": "code",
   "execution_count": 9,
   "id": "929b0106",
   "metadata": {
    "ExecuteTime": {
     "end_time": "2023-03-03T20:45:58.381490Z",
     "start_time": "2023-03-03T20:45:58.365376Z"
    }
   },
   "outputs": [],
   "source": [
    "categorical = ['Month', 'OperatingSystems', 'Browser', 'Region', 'TrafficType']\n",
    "boolean_categorical = ['Weekend', 'ReturningVisitor']\n",
    "numerical = ['Administrative', 'Administrative_Duration', 'Informational',\n",
    "               'Informational_Duration', 'ProductRelated', 'ProductRelated_Duration',\n",
    "               'BounceRates', 'ExitRates', 'PageValues', 'SpecialDay']"
   ]
  },
  {
   "cell_type": "code",
   "execution_count": 11,
   "id": "fba06924",
   "metadata": {
    "ExecuteTime": {
     "end_time": "2023-03-03T20:46:23.786109Z",
     "start_time": "2023-03-03T20:46:23.773315Z"
    }
   },
   "outputs": [],
   "source": [
    "# We remap the visitor column to a returning visitor boolean\n",
    "ecommerce_data['ReturningVisitor'] = ecommerce_data['VisitorType']\\\n",
    "                                    .replace({'Returning_Visitor':1, 'New_Visitor':0, 'Other':0})\n",
    "ecommerce_data.drop('VisitorType', axis=1, inplace=True)"
   ]
  },
  {
   "cell_type": "code",
   "execution_count": 12,
   "id": "0fcee6e3",
   "metadata": {
    "ExecuteTime": {
     "end_time": "2023-03-03T20:46:24.080910Z",
     "start_time": "2023-03-03T20:46:24.072887Z"
    }
   },
   "outputs": [],
   "source": [
    "# We also remap weekends \n",
    "ecommerce_data['Weekend'] = ecommerce_data['Weekend'].replace({True:1, False:0})"
   ]
  },
  {
   "cell_type": "code",
   "execution_count": 13,
   "id": "af7c9fd8",
   "metadata": {
    "ExecuteTime": {
     "end_time": "2023-03-03T20:46:34.374728Z",
     "start_time": "2023-03-03T20:46:34.109790Z"
    }
   },
   "outputs": [
    {
     "data": {
      "text/plain": [
       "<AxesSubplot: >"
      ]
     },
     "execution_count": 13,
     "metadata": {},
     "output_type": "execute_result"
    },
    {
     "data": {
      "image/png": "[encoded data removed]",
      "text/plain": [
       "<Figure size 576x432 with 2 Axes>"
      ]
     },
     "metadata": {
      "needs_background": "light"
     },
     "output_type": "display_data"
    }
   ],
   "source": [
    "# We can now plot a correlation matrix using numeric and boolean featues\n",
    "corr = ecommerce_data[[*numerical, *boolean_categorical, 'Revenue']].corr()\n",
    "mask = np.triu(np.ones_like(corr, dtype=bool))\n",
    "\n",
    "plt.figure(figsize=(8,6))\n",
    "sns.set_style('white')\n",
    "sns.heatmap(corr, \n",
    "            mask=mask, \n",
    "            linewidths=1,\n",
    "           cmap=\"vlag\")"
   ]
  },
  {
   "cell_type": "markdown",
   "id": "39f60a6e",
   "metadata": {},
   "source": [
    "## Clean Data"
   ]
  },
  {
   "cell_type": "code",
   "execution_count": 14,
   "id": "fcda1142",
   "metadata": {
    "ExecuteTime": {
     "end_time": "2023-03-03T20:46:36.255559Z",
     "start_time": "2023-03-03T20:46:36.235619Z"
    }
   },
   "outputs": [],
   "source": [
    "# Remove sessions that were on for more than 4 hours\n",
    "ecommerce_data = ecommerce_data[ecommerce_data['ProductRelated_Duration'] < 14400]\n",
    "\n",
    "# Remove sessions that had more than 400 product views\n",
    "ecommerce_data = ecommerce_data[ecommerce_data['ProductRelated'] < 400]"
   ]
  },
  {
   "cell_type": "markdown",
   "id": "b2c5451c",
   "metadata": {},
   "source": [
    "# Building and training models"
   ]
  },
  {
   "cell_type": "markdown",
   "id": "16808240",
   "metadata": {},
   "source": [
    "## PCA to visualize clusters"
   ]
  },
  {
   "cell_type": "code",
   "execution_count": 15,
   "id": "7f68da26",
   "metadata": {
    "ExecuteTime": {
     "end_time": "2023-03-03T20:46:37.358023Z",
     "start_time": "2023-03-03T20:46:37.355005Z"
    }
   },
   "outputs": [],
   "source": [
    "# Create the PCA model\n",
    "pca = make_pipeline(StandardScaler().set_output(transform=\"pandas\"), \n",
    "                    PCA(n_components=.9))"
   ]
  },
  {
   "cell_type": "code",
   "execution_count": 16,
   "id": "4a9c58d1",
   "metadata": {
    "ExecuteTime": {
     "end_time": "2023-03-03T20:46:37.764370Z",
     "start_time": "2023-03-03T20:46:37.740786Z"
    }
   },
   "outputs": [],
   "source": [
    "# Fit the model and then transform the data\n",
    "pca.fit(ecommerce_data[numerical])\n",
    "X = pca.transform(ecommerce_data[numerical])"
   ]
  },
  {
   "cell_type": "code",
   "execution_count": 17,
   "id": "2df23dad",
   "metadata": {
    "ExecuteTime": {
     "end_time": "2023-03-03T20:46:38.154811Z",
     "start_time": "2023-03-03T20:46:38.137302Z"
    }
   },
   "outputs": [
    {
     "name": "stdout",
     "output_type": "stream",
     "text": [
      "[0.33414795 0.49636035 0.6089888  0.71455625 0.81144831 0.90437566]\n",
      "0.9043756639853244\n"
     ]
    }
   ],
   "source": [
    "# Variance for the components\n",
    "print(pca.named_steps['pca'].explained_variance_ratio_.cumsum())\n",
    "print(np.sum(pca.named_steps['pca'].explained_variance_ratio_))"
   ]
  },
  {
   "cell_type": "code",
   "execution_count": 18,
   "id": "b3ad1017",
   "metadata": {
    "ExecuteTime": {
     "end_time": "2023-03-03T20:46:38.762430Z",
     "start_time": "2023-03-03T20:46:38.588207Z"
    }
   },
   "outputs": [
    {
     "data": {
      "text/plain": [
       "<AxesSubplot: title={'center': 'PCA Component Explained Variances'}, xlabel='First n principal components', ylabel='Explained variance ratio of first n components'>"
      ]
     },
     "execution_count": 18,
     "metadata": {},
     "output_type": "execute_result"
    },
    {
     "data": {
      "image/png": "[encoded data removed]",
      "text/plain": [
       "<Figure size 432x288 with 1 Axes>"
      ]
     },
     "metadata": {},
     "output_type": "display_data"
    }
   ],
   "source": [
    "skplt.decomposition.plot_pca_component_variance(pca.named_steps['pca'])"
   ]
  },
  {
   "cell_type": "code",
   "execution_count": 19,
   "id": "92afdaa8",
   "metadata": {
    "ExecuteTime": {
     "end_time": "2023-03-03T20:46:39.651690Z",
     "start_time": "2023-03-03T20:46:39.355677Z"
    }
   },
   "outputs": [
    {
     "data": {
      "text/plain": [
       "<AxesSubplot: title={'center': 'PCA 2-D Projection'}, xlabel='First Principal Component', ylabel='Second Principal Component'>"
      ]
     },
     "execution_count": 19,
     "metadata": {},
     "output_type": "execute_result"
    },
    {
     "data": {
      "image/png": "[encoded data removed]",
      "text/plain": [
       "<Figure size 432x288 with 1 Axes>"
      ]
     },
     "metadata": {},
     "output_type": "display_data"
    }
   ],
   "source": [
    "skplt.decomposition.plot_pca_2d_projection(pca, \n",
    "                                           ecommerce_data[numerical],\n",
    "                                           ecommerce_data['Revenue'])"
   ]
  },
  {
   "cell_type": "markdown",
   "id": "968202dc",
   "metadata": {},
   "source": [
    "We do not see a clear separation in between sessions with and without transactions for only a 2D projection"
   ]
  },
  {
   "cell_type": "code",
   "execution_count": 20,
   "id": "95d1f9da",
   "metadata": {
    "ExecuteTime": {
     "end_time": "2023-03-03T20:46:43.471204Z",
     "start_time": "2023-03-03T20:46:43.451268Z"
    }
   },
   "outputs": [],
   "source": [
    "# Create another dataset using just the PCA components rather than the numeric ones\n",
    "# We can compare their performance down the line\n",
    "ecommerce_data_pca = ecommerce_data.drop(numerical, axis=1)\n",
    "ecommerce_data_pca[[f'component_{x}' for x in range(X.shape[1])]] = X"
   ]
  },
  {
   "cell_type": "markdown",
   "id": "9a813e07",
   "metadata": {},
   "source": [
    "## Model"
   ]
  },
  {
   "cell_type": "markdown",
   "id": "4161d30a",
   "metadata": {},
   "source": [
    "### OHC and Spliting Dataset"
   ]
  },
  {
   "cell_type": "code",
   "execution_count": 21,
   "id": "c3894e6a",
   "metadata": {
    "ExecuteTime": {
     "end_time": "2023-03-03T20:46:44.714724Z",
     "start_time": "2023-03-03T20:46:44.698801Z"
    }
   },
   "outputs": [],
   "source": [
    "# OHC both datasets\n",
    "ecommerce_ohc = pd.get_dummies(ecommerce_data[categorical])\\\n",
    "                .merge(ecommerce_data[[x for x in ecommerce_data.columns if x not in categorical]],\n",
    "                       left_index=True, \n",
    "                       right_index=True)\n",
    "ecommerce_pca_ohc = pd.get_dummies(ecommerce_data_pca[categorical])\\\n",
    "                .merge(ecommerce_data_pca[[x for x in ecommerce_data_pca.columns if x not in categorical]],\n",
    "                       left_index=True, \n",
    "                       right_index=True)"
   ]
  },
  {
   "cell_type": "code",
   "execution_count": 22,
   "id": "671f4229",
   "metadata": {
    "ExecuteTime": {
     "end_time": "2023-03-03T20:46:45.059849Z",
     "start_time": "2023-03-03T20:46:45.036363Z"
    }
   },
   "outputs": [],
   "source": [
    "X_train, X_test, y_train, y_test = train_test_split(ecommerce_ohc.drop('Revenue', axis=1), \n",
    "                                                    ecommerce_ohc['Revenue'], \n",
    "                                                    test_size= 0.25,\n",
    "                                                    stratify=ecommerce_ohc['Revenue'],\n",
    "                                                    random_state=42)"
   ]
  },
  {
   "cell_type": "markdown",
   "id": "7d3e1ddb",
   "metadata": {},
   "source": [
    "### Model"
   ]
  },
  {
   "cell_type": "code",
   "execution_count": 23,
   "id": "c82a450b",
   "metadata": {
    "ExecuteTime": {
     "end_time": "2023-03-03T20:46:45.976855Z",
     "start_time": "2023-03-03T20:46:45.724042Z"
    }
   },
   "outputs": [
    {
     "data": {
      "image/png": "[encoded data removed]",
      "text/plain": [
       "<Figure size 432x288 with 1 Axes>"
      ]
     },
     "metadata": {},
     "output_type": "display_data"
    }
   ],
   "source": [
    "# We can look at the recommended clusters before we actually use the known two clusters\n",
    "inertia = []\n",
    "n_clusters = [2, 3, 4, 6, 7, 8]\n",
    "for i in n_clusters:\n",
    "    kmeans = KMeans(n_clusters = i, \n",
    "                    n_init = 'auto')\n",
    "    kmeans.fit(X)\n",
    "    inertia.append(kmeans.inertia_) \n",
    "plt.plot(n_clusters, inertia)\n",
    "plt.title('Elbow Method')\n",
    "plt.xlabel('Clusters')\n",
    "plt.ylabel('Inertia')\n",
    "plt.show()"
   ]
  },
  {
   "cell_type": "markdown",
   "id": "36f5816c",
   "metadata": {},
   "source": [
    "The elbow method would suggest either 3 clusters or maybe even 7, since we have double clusters. We could try an advanced different method such as Silhouette analysis to validate this."
   ]
  },
  {
   "cell_type": "code",
   "execution_count": 24,
   "id": "06abf75a",
   "metadata": {
    "ExecuteTime": {
     "end_time": "2023-03-03T20:46:46.675954Z",
     "start_time": "2023-03-03T20:46:46.651459Z"
    }
   },
   "outputs": [
    {
     "data": {
      "text/html": [
       "<style>#sk-container-id-1 {color: black;background-color: white;}#sk-container-id-1 pre{padding: 0;}#sk-container-id-1 div.sk-toggleable {background-color: white;}#sk-container-id-1 label.sk-toggleable__label {cursor: pointer;display: block;width: 100%;margin-bottom: 0;padding: 0.3em;box-sizing: border-box;text-align: center;}#sk-container-id-1 label.sk-toggleable__label-arrow:before {content: \"▸\";float: left;margin-right: 0.25em;color: #696969;}#sk-container-id-1 label.sk-toggleable__label-arrow:hover:before {color: black;}#sk-container-id-1 div.sk-estimator:hover label.sk-toggleable__label-arrow:before {color: black;}#sk-container-id-1 div.sk-toggleable__content {max-height: 0;max-width: 0;overflow: hidden;text-align: left;background-color: #f0f8ff;}#sk-container-id-1 div.sk-toggleable__content pre {margin: 0.2em;color: black;border-radius: 0.25em;background-color: #f0f8ff;}#sk-container-id-1 input.sk-toggleable__control:checked~div.sk-toggleable__content {max-height: 200px;max-width: 100%;overflow: auto;}#sk-container-id-1 input.sk-toggleable__control:checked~label.sk-toggleable__label-arrow:before {content: \"▾\";}#sk-container-id-1 div.sk-estimator input.sk-toggleable__control:checked~label.sk-toggleable__label {background-color: #d4ebff;}#sk-container-id-1 div.sk-label input.sk-toggleable__control:checked~label.sk-toggleable__label {background-color: #d4ebff;}#sk-container-id-1 input.sk-hidden--visually {border: 0;clip: rect(1px 1px 1px 1px);clip: rect(1px, 1px, 1px, 1px);height: 1px;margin: -1px;overflow: hidden;padding: 0;position: absolute;width: 1px;}#sk-container-id-1 div.sk-estimator {font-family: monospace;background-color: #f0f8ff;border: 1px dotted black;border-radius: 0.25em;box-sizing: border-box;margin-bottom: 0.5em;}#sk-container-id-1 div.sk-estimator:hover {background-color: #d4ebff;}#sk-container-id-1 div.sk-parallel-item::after {content: \"\";width: 100%;border-bottom: 1px solid gray;flex-grow: 1;}#sk-container-id-1 div.sk-label:hover label.sk-toggleable__label {background-color: #d4ebff;}#sk-container-id-1 div.sk-serial::before {content: \"\";position: absolute;border-left: 1px solid gray;box-sizing: border-box;top: 0;bottom: 0;left: 50%;z-index: 0;}#sk-container-id-1 div.sk-serial {display: flex;flex-direction: column;align-items: center;background-color: white;padding-right: 0.2em;padding-left: 0.2em;position: relative;}#sk-container-id-1 div.sk-item {position: relative;z-index: 1;}#sk-container-id-1 div.sk-parallel {display: flex;align-items: stretch;justify-content: center;background-color: white;position: relative;}#sk-container-id-1 div.sk-item::before, #sk-container-id-1 div.sk-parallel-item::before {content: \"\";position: absolute;border-left: 1px solid gray;box-sizing: border-box;top: 0;bottom: 0;left: 50%;z-index: -1;}#sk-container-id-1 div.sk-parallel-item {display: flex;flex-direction: column;z-index: 1;position: relative;background-color: white;}#sk-container-id-1 div.sk-parallel-item:first-child::after {align-self: flex-end;width: 50%;}#sk-container-id-1 div.sk-parallel-item:last-child::after {align-self: flex-start;width: 50%;}#sk-container-id-1 div.sk-parallel-item:only-child::after {width: 0;}#sk-container-id-1 div.sk-dashed-wrapped {border: 1px dashed gray;margin: 0 0.4em 0.5em 0.4em;box-sizing: border-box;padding-bottom: 0.4em;background-color: white;}#sk-container-id-1 div.sk-label label {font-family: monospace;font-weight: bold;display: inline-block;line-height: 1.2em;}#sk-container-id-1 div.sk-label-container {text-align: center;}#sk-container-id-1 div.sk-container {/* jupyter's `normalize.less` sets `[hidden] { display: none; }` but bootstrap.min.css set `[hidden] { display: none !important; }` so we also need the `!important` here to be able to override the default hidden behavior on the sphinx rendered scikit-learn.org. See: https://github.com/scikit-learn/scikit-learn/issues/21755 */display: inline-block !important;position: relative;}#sk-container-id-1 div.sk-text-repr-fallback {display: none;}</style><div id=\"sk-container-id-1\" class=\"sk-top-container\"><div class=\"sk-text-repr-fallback\"><pre>KMeans(n_clusters=2, n_init=&#x27;auto&#x27;, random_state=42)</pre><b>In a Jupyter environment, please rerun this cell to show the HTML representation or trust the notebook. <br />On GitHub, the HTML representation is unable to render, please try loading this page with nbviewer.org.</b></div><div class=\"sk-container\" hidden><div class=\"sk-item\"><div class=\"sk-estimator sk-toggleable\"><input class=\"sk-toggleable__control sk-hidden--visually\" id=\"sk-estimator-id-1\" type=\"checkbox\" checked><label for=\"sk-estimator-id-1\" class=\"sk-toggleable__label sk-toggleable__label-arrow\">KMeans</label><div class=\"sk-toggleable__content\"><pre>KMeans(n_clusters=2, n_init=&#x27;auto&#x27;, random_state=42)</pre></div></div></div></div></div>"
      ],
      "text/plain": [
       "KMeans(n_clusters=2, n_init='auto', random_state=42)"
      ]
     },
     "execution_count": 24,
     "metadata": {},
     "output_type": "execute_result"
    }
   ],
   "source": [
    "kmeans = KMeans(n_clusters=2, \n",
    "                random_state=42, \n",
    "                n_init=\"auto\")\n",
    "kmeans.fit(X_train)"
   ]
  },
  {
   "cell_type": "code",
   "execution_count": 25,
   "id": "62c24fd9",
   "metadata": {
    "ExecuteTime": {
     "end_time": "2023-03-03T20:46:47.236171Z",
     "start_time": "2023-03-03T20:46:47.229125Z"
    }
   },
   "outputs": [],
   "source": [
    "def label_permute_compare(y_actual, y_pred, n=2):\n",
    "    \"\"\"\n",
    "    Args:\n",
    "        y_actual -> pd.Series with categories as text\n",
    "        y_pred -> np.array with predictions\n",
    "        n -> Number of permutations in y_pred \n",
    "    Returns: \n",
    "        Predicted labels, accuracy score\n",
    "    \"\"\"\n",
    "    all_scores = []\n",
    "    actual_labels = y_actual.unique().tolist()\n",
    "    \n",
    "    # Generate permutations to check against\n",
    "    for perm in itertools.permutations(tuple(range(n)), n):\n",
    "        remap_dict = dict(zip(actual_labels, perm))\n",
    "        # Change the values in the prediction\n",
    "        y_actual_coded = y_actual.replace(remap_dict)\n",
    "        acc = accuracy_score(y_actual_coded, y_pred)           \n",
    "        all_scores.append([perm, acc])\n",
    "    \n",
    "    best_score = sorted(all_scores, key=lambda x:x[1])[-1]\n",
    "    \n",
    "    return best_score, actual_labels"
   ]
  },
  {
   "cell_type": "code",
   "execution_count": 26,
   "id": "d6ce50ac",
   "metadata": {
    "ExecuteTime": {
     "end_time": "2023-03-03T20:46:47.732872Z",
     "start_time": "2023-03-03T20:46:47.707714Z"
    }
   },
   "outputs": [
    {
     "name": "stdout",
     "output_type": "stream",
     "text": [
      "Labels are -> (0, 1) for [False, True]\n",
      " Accuracy -> 0.8078257099501409\n"
     ]
    }
   ],
   "source": [
    "# We pass the labels into a function to predict the labels for the clusters\n",
    "label_predictions = label_permute_compare(y_train, kmeans.labels_)\n",
    "\n",
    "# Print the results\n",
    "print(f'Labels are -> {label_predictions[0][0]} for {label_predictions[1]}\\\n",
    "\\n Accuracy -> {label_predictions[0][1]}')"
   ]
  },
  {
   "cell_type": "code",
   "execution_count": 27,
   "id": "9e373d70",
   "metadata": {
    "ExecuteTime": {
     "end_time": "2023-03-03T20:46:48.569466Z",
     "start_time": "2023-03-03T20:46:48.555462Z"
    }
   },
   "outputs": [
    {
     "data": {
      "text/plain": [
       "{0: False, 1: True}"
      ]
     },
     "execution_count": 27,
     "metadata": {},
     "output_type": "execute_result"
    }
   ],
   "source": [
    "label_category_mapping = dict(zip(label_predictions[0][0], label_predictions[1]))\n",
    "label_category_mapping"
   ]
  },
  {
   "cell_type": "code",
   "execution_count": 28,
   "id": "73b915e8",
   "metadata": {
    "ExecuteTime": {
     "end_time": "2023-03-03T20:46:48.894847Z",
     "start_time": "2023-03-03T20:46:48.876218Z"
    }
   },
   "outputs": [],
   "source": [
    "# Predict on the unseen testing dataset\n",
    "y_predictions = kmeans.predict(X_test)"
   ]
  },
  {
   "cell_type": "code",
   "execution_count": 29,
   "id": "6b2e30ad",
   "metadata": {
    "ExecuteTime": {
     "end_time": "2023-03-03T20:46:49.299351Z",
     "start_time": "2023-03-03T20:46:49.291360Z"
    }
   },
   "outputs": [
    {
     "name": "stdout",
     "output_type": "stream",
     "text": [
      "Labels are -> (0, 1) for [False, True]\n",
      " Accuracy -> 0.7958387516254877\n"
     ]
    }
   ],
   "source": [
    "# We pass the labels into a function to predict the labels for the clusters\n",
    "label_predictions = label_permute_compare(y_test, y_predictions)\n",
    "\n",
    "# Print the results\n",
    "print(f'Labels are -> {label_predictions[0][0]} for {label_predictions[1]}\\\n",
    "\\n Accuracy -> {label_predictions[0][1]}')"
   ]
  },
  {
   "cell_type": "markdown",
   "id": "332e65d9",
   "metadata": {},
   "source": [
    "The labels still remain 0 -> False and 1 -> True, the accuracy dropped by a fraction. We now plot the confusion matrix"
   ]
  },
  {
   "cell_type": "code",
   "execution_count": 30,
   "id": "9893198c",
   "metadata": {
    "ExecuteTime": {
     "end_time": "2023-03-03T20:46:50.388614Z",
     "start_time": "2023-03-03T20:46:50.268983Z"
    }
   },
   "outputs": [
    {
     "data": {
      "text/plain": [
       "<sklearn.metrics._plot.confusion_matrix.ConfusionMatrixDisplay at 0x22e72f42e80>"
      ]
     },
     "execution_count": 30,
     "metadata": {},
     "output_type": "execute_result"
    },
    {
     "data": {
      "image/png": "[encoded data removed]",
      "text/plain": [
       "<Figure size 432x288 with 2 Axes>"
      ]
     },
     "metadata": {},
     "output_type": "display_data"
    }
   ],
   "source": [
    "cf_m = ConfusionMatrixDisplay(confusion_matrix(y_test, \n",
    "                                               y_predictions,\n",
    "                                               labels=label_predictions[1]),\n",
    "                                               display_labels=label_predictions[1])\n",
    "cf_m.plot()"
   ]
  },
  {
   "cell_type": "markdown",
   "id": "94c6e248",
   "metadata": {},
   "source": [
    "Recreating the model with the PCA data actually caused its accuracy to drop from 0.80 to 0.73. Given that the features we decomposed were aggregates themselves, it might be better to work on reducing the categorical data that we have to OHC rather than use PCA to reduce the number of dimensions in this case."
   ]
  },
  {
   "cell_type": "markdown",
   "id": "4d7efc06",
   "metadata": {},
   "source": [
    "#  Compare with supervised learning "
   ]
  },
  {
   "cell_type": "markdown",
   "id": "fbe108f4",
   "metadata": {},
   "source": [
    "## Supervised Model"
   ]
  },
  {
   "cell_type": "markdown",
   "id": "1881c1fe",
   "metadata": {},
   "source": [
    "We will now predict the categories using a supervised model (KNN)"
   ]
  },
  {
   "cell_type": "code",
   "execution_count": 31,
   "id": "6d455aa8",
   "metadata": {
    "ExecuteTime": {
     "end_time": "2023-03-03T20:46:52.753164Z",
     "start_time": "2023-03-03T20:46:52.731864Z"
    }
   },
   "outputs": [
    {
     "data": {
      "text/html": [
       "<style>#sk-container-id-2 {color: black;background-color: white;}#sk-container-id-2 pre{padding: 0;}#sk-container-id-2 div.sk-toggleable {background-color: white;}#sk-container-id-2 label.sk-toggleable__label {cursor: pointer;display: block;width: 100%;margin-bottom: 0;padding: 0.3em;box-sizing: border-box;text-align: center;}#sk-container-id-2 label.sk-toggleable__label-arrow:before {content: \"▸\";float: left;margin-right: 0.25em;color: #696969;}#sk-container-id-2 label.sk-toggleable__label-arrow:hover:before {color: black;}#sk-container-id-2 div.sk-estimator:hover label.sk-toggleable__label-arrow:before {color: black;}#sk-container-id-2 div.sk-toggleable__content {max-height: 0;max-width: 0;overflow: hidden;text-align: left;background-color: #f0f8ff;}#sk-container-id-2 div.sk-toggleable__content pre {margin: 0.2em;color: black;border-radius: 0.25em;background-color: #f0f8ff;}#sk-container-id-2 input.sk-toggleable__control:checked~div.sk-toggleable__content {max-height: 200px;max-width: 100%;overflow: auto;}#sk-container-id-2 input.sk-toggleable__control:checked~label.sk-toggleable__label-arrow:before {content: \"▾\";}#sk-container-id-2 div.sk-estimator input.sk-toggleable__control:checked~label.sk-toggleable__label {background-color: #d4ebff;}#sk-container-id-2 div.sk-label input.sk-toggleable__control:checked~label.sk-toggleable__label {background-color: #d4ebff;}#sk-container-id-2 input.sk-hidden--visually {border: 0;clip: rect(1px 1px 1px 1px);clip: rect(1px, 1px, 1px, 1px);height: 1px;margin: -1px;overflow: hidden;padding: 0;position: absolute;width: 1px;}#sk-container-id-2 div.sk-estimator {font-family: monospace;background-color: #f0f8ff;border: 1px dotted black;border-radius: 0.25em;box-sizing: border-box;margin-bottom: 0.5em;}#sk-container-id-2 div.sk-estimator:hover {background-color: #d4ebff;}#sk-container-id-2 div.sk-parallel-item::after {content: \"\";width: 100%;border-bottom: 1px solid gray;flex-grow: 1;}#sk-container-id-2 div.sk-label:hover label.sk-toggleable__label {background-color: #d4ebff;}#sk-container-id-2 div.sk-serial::before {content: \"\";position: absolute;border-left: 1px solid gray;box-sizing: border-box;top: 0;bottom: 0;left: 50%;z-index: 0;}#sk-container-id-2 div.sk-serial {display: flex;flex-direction: column;align-items: center;background-color: white;padding-right: 0.2em;padding-left: 0.2em;position: relative;}#sk-container-id-2 div.sk-item {position: relative;z-index: 1;}#sk-container-id-2 div.sk-parallel {display: flex;align-items: stretch;justify-content: center;background-color: white;position: relative;}#sk-container-id-2 div.sk-item::before, #sk-container-id-2 div.sk-parallel-item::before {content: \"\";position: absolute;border-left: 1px solid gray;box-sizing: border-box;top: 0;bottom: 0;left: 50%;z-index: -1;}#sk-container-id-2 div.sk-parallel-item {display: flex;flex-direction: column;z-index: 1;position: relative;background-color: white;}#sk-container-id-2 div.sk-parallel-item:first-child::after {align-self: flex-end;width: 50%;}#sk-container-id-2 div.sk-parallel-item:last-child::after {align-self: flex-start;width: 50%;}#sk-container-id-2 div.sk-parallel-item:only-child::after {width: 0;}#sk-container-id-2 div.sk-dashed-wrapped {border: 1px dashed gray;margin: 0 0.4em 0.5em 0.4em;box-sizing: border-box;padding-bottom: 0.4em;background-color: white;}#sk-container-id-2 div.sk-label label {font-family: monospace;font-weight: bold;display: inline-block;line-height: 1.2em;}#sk-container-id-2 div.sk-label-container {text-align: center;}#sk-container-id-2 div.sk-container {/* jupyter's `normalize.less` sets `[hidden] { display: none; }` but bootstrap.min.css set `[hidden] { display: none !important; }` so we also need the `!important` here to be able to override the default hidden behavior on the sphinx rendered scikit-learn.org. See: https://github.com/scikit-learn/scikit-learn/issues/21755 */display: inline-block !important;position: relative;}#sk-container-id-2 div.sk-text-repr-fallback {display: none;}</style><div id=\"sk-container-id-2\" class=\"sk-top-container\"><div class=\"sk-text-repr-fallback\"><pre>KNeighborsClassifier(n_neighbors=2)</pre><b>In a Jupyter environment, please rerun this cell to show the HTML representation or trust the notebook. <br />On GitHub, the HTML representation is unable to render, please try loading this page with nbviewer.org.</b></div><div class=\"sk-container\" hidden><div class=\"sk-item\"><div class=\"sk-estimator sk-toggleable\"><input class=\"sk-toggleable__control sk-hidden--visually\" id=\"sk-estimator-id-2\" type=\"checkbox\" checked><label for=\"sk-estimator-id-2\" class=\"sk-toggleable__label sk-toggleable__label-arrow\">KNeighborsClassifier</label><div class=\"sk-toggleable__content\"><pre>KNeighborsClassifier(n_neighbors=2)</pre></div></div></div></div></div>"
      ],
      "text/plain": [
       "KNeighborsClassifier(n_neighbors=2)"
      ]
     },
     "execution_count": 31,
     "metadata": {},
     "output_type": "execute_result"
    }
   ],
   "source": [
    "knn = KNeighborsClassifier(n_neighbors=2)\n",
    "knn.fit(X_train, y_train)"
   ]
  },
  {
   "cell_type": "code",
   "execution_count": 32,
   "id": "62f60f2e",
   "metadata": {
    "ExecuteTime": {
     "end_time": "2023-03-03T20:46:53.312260Z",
     "start_time": "2023-03-03T20:46:53.208989Z"
    }
   },
   "outputs": [],
   "source": [
    "knn_predictions = knn.predict(X_test)"
   ]
  },
  {
   "cell_type": "code",
   "execution_count": 33,
   "id": "4e8b88a2",
   "metadata": {
    "ExecuteTime": {
     "end_time": "2023-03-03T20:46:53.606726Z",
     "start_time": "2023-03-03T20:46:53.596579Z"
    }
   },
   "outputs": [
    {
     "data": {
      "text/plain": [
       "0.8585825747724317"
      ]
     },
     "execution_count": 33,
     "metadata": {},
     "output_type": "execute_result"
    }
   ],
   "source": [
    "accuracy_score(y_test, knn_predictions)  "
   ]
  },
  {
   "cell_type": "code",
   "execution_count": 34,
   "id": "a7baeb54",
   "metadata": {
    "ExecuteTime": {
     "end_time": "2023-03-03T20:46:54.336104Z",
     "start_time": "2023-03-03T20:46:54.218576Z"
    }
   },
   "outputs": [
    {
     "data": {
      "text/plain": [
       "<sklearn.metrics._plot.confusion_matrix.ConfusionMatrixDisplay at 0x22e7f55bee0>"
      ]
     },
     "execution_count": 34,
     "metadata": {},
     "output_type": "execute_result"
    },
    {
     "data": {
      "image/png": "[encoded data removed]",
      "text/plain": [
       "<Figure size 432x288 with 2 Axes>"
      ]
     },
     "metadata": {},
     "output_type": "display_data"
    }
   ],
   "source": [
    "cf_m_sup = ConfusionMatrixDisplay(confusion_matrix(y_test, \n",
    "                                                   knn_predictions,\n",
    "                                                   labels=label_predictions[1]),\n",
    "                                                   display_labels=label_predictions[1])\n",
    "cf_m_sup.plot()"
   ]
  },
  {
   "cell_type": "markdown",
   "id": "837db47a",
   "metadata": {},
   "source": [
    "The supervised model did a lot better job"
   ]
  },
  {
   "cell_type": "markdown",
   "id": "50b5f86b",
   "metadata": {},
   "source": [
    "# References"
   ]
  },
  {
   "cell_type": "markdown",
   "id": "2f52f7b9",
   "metadata": {},
   "source": [
    "\n",
    "<br>Dataset https://archive.ics.uci.edu/ml/datasets/Online+Shoppers+Purchasing+Intention+Dataset#</br>\n",
    "<br>Sklearn Library https://scikit-learn.org/stable/modules/generated/sklearn.cluster.KMeans.html/br>"
   ]
  }
 ],
 "metadata": {
  "hide_input": false,
  "kernelspec": {
   "display_name": "Python 3",
   "language": "python",
   "name": "python3"
  },
  "language_info": {
   "codemirror_mode": {
    "name": "ipython",
    "version": 3
   },
   "file_extension": ".py",
   "mimetype": "text/x-python",
   "name": "python",
   "nbconvert_exporter": "python",
   "pygments_lexer": "ipython3",
   "version": "3.8.8"
  }
 },
 "nbformat": 4,
 "nbformat_minor": 5
}
